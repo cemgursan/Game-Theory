{
 "cells": [
  {
   "cell_type": "code",
   "execution_count": 3,
   "metadata": {},
   "outputs": [],
   "source": [
    "import pandas as pd\n",
    "from pandas import Series,DataFrame\n",
    "import numpy as np\n",
    "\n",
    "import matplotlib.pyplot as plt\n",
    "import seaborn as sns\n",
    "sns.set_style('whitegrid')\n",
    "%matplotlib inline\n",
    "\n",
    "\n",
    "\n",
    "def namestr(obj, namespace):\n",
    "    return [name for name in namespace if namespace[name] is obj]\n",
    "\n"
   ]
  },
  {
   "cell_type": "code",
   "execution_count": 4,
   "metadata": {},
   "outputs": [],
   "source": [
    "# Data input\n",
    "#1st element Cost\n",
    "#2nd element Environment\n",
    "#3rd element Reliability\n",
    "\n",
    "A=[90000,20,100] \n",
    "B=[110000, 70, 0]\n",
    "C=[ 170000, 100, 90]\n",
    "D=[60000 ,0 ,50]"
   ]
  },
  {
   "cell_type": "code",
   "execution_count": 48,
   "metadata": {},
   "outputs": [
    {
     "data": {
      "text/html": [
       "<div>\n",
       "<style>\n",
       "    .dataframe thead tr:only-child th {\n",
       "        text-align: right;\n",
       "    }\n",
       "\n",
       "    .dataframe thead th {\n",
       "        text-align: left;\n",
       "    }\n",
       "\n",
       "    .dataframe tbody tr th {\n",
       "        vertical-align: top;\n",
       "    }\n",
       "</style>\n",
       "<table border=\"1\" class=\"dataframe\">\n",
       "  <thead>\n",
       "    <tr style=\"text-align: right;\">\n",
       "      <th></th>\n",
       "      <th>Cost</th>\n",
       "      <th>Environmental</th>\n",
       "      <th>Reliability</th>\n",
       "    </tr>\n",
       "  </thead>\n",
       "  <tbody>\n",
       "    <tr>\n",
       "      <th>A1</th>\n",
       "      <td>90000</td>\n",
       "      <td>20</td>\n",
       "      <td>100</td>\n",
       "    </tr>\n",
       "    <tr>\n",
       "      <th>A2</th>\n",
       "      <td>110000</td>\n",
       "      <td>70</td>\n",
       "      <td>0</td>\n",
       "    </tr>\n",
       "    <tr>\n",
       "      <th>A3</th>\n",
       "      <td>170000</td>\n",
       "      <td>100</td>\n",
       "      <td>90</td>\n",
       "    </tr>\n",
       "    <tr>\n",
       "      <th>A4</th>\n",
       "      <td>60000</td>\n",
       "      <td>0</td>\n",
       "      <td>50</td>\n",
       "    </tr>\n",
       "  </tbody>\n",
       "</table>\n",
       "</div>"
      ],
      "text/plain": [
       "      Cost  Environmental  Reliability\n",
       "A1   90000             20          100\n",
       "A2  110000             70            0\n",
       "A3  170000            100           90\n",
       "A4   60000              0           50"
      ]
     },
     "execution_count": 48,
     "metadata": {},
     "output_type": "execute_result"
    }
   ],
   "source": [
    "data= {\"A1\":A,\"A2\":B,\"A3\":C,\"A4\":D}\n",
    "NameArr=[]\n",
    "EnArr=[]\n",
    "CostArr=[]\n",
    "RelArr=[]\n",
    "\n",
    "#Get Columns\n",
    "for dt in data:\n",
    "    CostArr.append(data[dt][0])\n",
    "    EnArr.append(data[dt][1])\n",
    "    RelArr.append(data[dt][2])\n",
    "    NameArr.append(dt)\n",
    "\n",
    "# Create First Matrix for current situation\n",
    "rdytoDF= {\"Cost\":CostArr,\"Environmental\":EnArr,\"Reliability\":RelArr}\n",
    "#columns are merged\n",
    "df = pd.DataFrame(rdytoDF,columns=[ 'Cost',  'Environmental',\"Reliability\"])\n",
    "\n",
    "#Row names changed\n",
    "df.rename(index={0:\"A1\",1:\"A2\",2:\"A3\",3:\"A4\"}, inplace=True)\n",
    "df"
   ]
  },
  {
   "cell_type": "code",
   "execution_count": 47,
   "metadata": {},
   "outputs": [
    {
     "data": {
      "text/plain": [
       "<function matplotlib.pyplot.show>"
      ]
     },
     "execution_count": 47,
     "metadata": {},
     "output_type": "execute_result"
    },
    {
     "data": {
      "image/png": "[encoded data removed]",
      "text/plain": [
       "<matplotlib.figure.Figure at 0x23d5602a518>"
      ]
     },
     "metadata": {},
     "output_type": "display_data"
    }
   ],
   "source": [
    "#Plot Functions\n",
    "plt.figure(figsize=(10,10))\n",
    "\n",
    "plt.xlabel(\"Environment\")\n",
    "plt.ylabel(\"Reliability\")\n",
    "\n",
    "plt.scatter( df[\"Environmental\"],df[\"Reliability\"])\n",
    "\n",
    "for i, txt in enumerate(NameArr):\n",
    "    plt.annotate(txt, (df[\"Environmental\"][i], df[\"Reliability\"][i]))\n",
    "    \n",
    "plt.show"
   ]
  },
  {
   "cell_type": "code",
   "execution_count": 162,
   "metadata": {},
   "outputs": [
    {
     "data": {
      "text/html": [
       "<div>\n",
       "<style>\n",
       "    .dataframe thead tr:only-child th {\n",
       "        text-align: right;\n",
       "    }\n",
       "\n",
       "    .dataframe thead th {\n",
       "        text-align: left;\n",
       "    }\n",
       "\n",
       "    .dataframe tbody tr th {\n",
       "        vertical-align: top;\n",
       "    }\n",
       "</style>\n",
       "<table border=\"1\" class=\"dataframe\">\n",
       "  <thead>\n",
       "    <tr style=\"text-align: right;\">\n",
       "      <th></th>\n",
       "      <th>Cost</th>\n",
       "      <th>W/Environmental</th>\n",
       "      <th>W/Reliability</th>\n",
       "      <th>Summation</th>\n",
       "    </tr>\n",
       "  </thead>\n",
       "  <tbody>\n",
       "    <tr>\n",
       "      <th>A1</th>\n",
       "      <td>90000</td>\n",
       "      <td>6.0</td>\n",
       "      <td>70.0</td>\n",
       "      <td>76.0</td>\n",
       "    </tr>\n",
       "    <tr>\n",
       "      <th>A2</th>\n",
       "      <td>110000</td>\n",
       "      <td>21.0</td>\n",
       "      <td>0.0</td>\n",
       "      <td>21.0</td>\n",
       "    </tr>\n",
       "    <tr>\n",
       "      <th>A3</th>\n",
       "      <td>170000</td>\n",
       "      <td>30.0</td>\n",
       "      <td>63.0</td>\n",
       "      <td>93.0</td>\n",
       "    </tr>\n",
       "    <tr>\n",
       "      <th>A4</th>\n",
       "      <td>60000</td>\n",
       "      <td>0.0</td>\n",
       "      <td>35.0</td>\n",
       "      <td>35.0</td>\n",
       "    </tr>\n",
       "  </tbody>\n",
       "</table>\n",
       "</div>"
      ],
      "text/plain": [
       "      Cost  W/Environmental  W/Reliability  Summation\n",
       "A1   90000              6.0           70.0       76.0\n",
       "A2  110000             21.0            0.0       21.0\n",
       "A3  170000             30.0           63.0       93.0\n",
       "A4   60000              0.0           35.0       35.0"
      ]
     },
     "execution_count": 162,
     "metadata": {},
     "output_type": "execute_result"
    }
   ],
   "source": [
    "weightsAnal=(30/100,70/100)\n",
    "weightedEn=[]\n",
    "weightedRel=[]\n",
    "sumEn=0.0\n",
    "sumRel=0.0\n",
    "\n",
    "for item in EnArr:\n",
    "    weightedEn.append(item*weightsAnal[0])\n",
    "for item in RelArr:\n",
    "    weightedRel.append(item*weightsAnal[1])\n",
    "    sumRel+=item*weightsAnal[1]\n",
    "\n",
    "### PERFORMANCE MATRIX\n",
    "\n",
    "\n",
    "# Create First Matrix for current situation\n",
    "rdytoDF= {\"Cost\":CostArr,\"W/Environmental\":weightedEn,\"W/Reliability\":weightedRel}\n",
    "#columns are merged\n",
    "resultdf = pd.DataFrame(rdytoDF,columns=[ 'Cost',  'W/Environmental',\"W/Reliability\"])\n",
    "#Row names changed\n",
    "resultdf.rename(index={0:\"A1\",1:\"A2\",2:\"A3\",3:\"A4\"}, inplace=True)\n",
    "\n",
    "## In this Question WE ASSUME COST IS NOT INCLUDED IN RATING TECHNIQUE\n",
    "## CODE FOR INCLUDING COST AS WELL\n",
    "\n",
    "# Calculate Summation Column to the end\n",
    "summation=[]\n",
    "for index, row in resultdf.iterrows():\n",
    "    summation.append(row['W/Environmental']+row[\"W/Reliability\"])\n",
    "# Add Summation Column to the DF\n",
    "resultdf[\"Summation\"]=summation\n",
    "resultdf"
   ]
  },
  {
   "cell_type": "code",
   "execution_count": 164,
   "metadata": {},
   "outputs": [
    {
     "name": "stdout",
     "output_type": "stream",
     "text": [
      "  Alternatives    Cost  Score\n",
      "0           A3  170000   93.0\n",
      "1           A1   90000   76.0\n",
      "2           A4   60000   35.0\n",
      "3           A2  110000   21.0\n"
     ]
    }
   ],
   "source": [
    "#### SCORE FUNCTION\n",
    "#Cool list comprehension =)\n",
    "#weightedList=[list(a) for a in zip(NameArr,[x+y for x,y in zip(weightedEn,weightedRel)])]\n",
    "\n",
    "weightedList=[list(a) for a in zip(NameArr,CostArr,summation)]\n",
    "rankedDF=pd.DataFrame(sorted(weightedList, key=lambda weight: weight[2],reverse=True), columns=[\"Alternatives\",\"Cost\",\"Score\"])\n",
    "print(rankedDF)"
   ]
  },
  {
   "cell_type": "code",
   "execution_count": 169,
   "metadata": {},
   "outputs": [
    {
     "data": {
      "text/plain": [
       "<function matplotlib.pyplot.show>"
      ]
     },
     "execution_count": 169,
     "metadata": {},
     "output_type": "execute_result"
    },
    {
     "data": {
      "image/png": "[encoded data removed]",
      "text/plain": [
       "<matplotlib.figure.Figure at 0x23d56e70cf8>"
      ]
     },
     "metadata": {},
     "output_type": "display_data"
    }
   ],
   "source": [
    "## Efficient Frontier\n",
    "\n",
    "#Plot Functions\n",
    "plt.figure(figsize=(7,7))\n",
    "plt.xlabel(\"Costs\")\n",
    "plt.ylabel(\"Value of Benefits\")\n",
    "\n",
    "plt.scatter( rankedDF[\"Cost\"],rankedDF[\"Score\"])\n",
    "\n",
    "\n",
    "# FUNCTION THIS !\n",
    "#plt.plot([x1,x2]\n",
    "plt.plot([rankedDF.ix[0][1],rankedDF.ix[1][1]],[rankedDF.ix[0][2],rankedDF.ix[1][2]],color=\"Blue\")\n",
    "plt.plot([rankedDF.ix[2][1],rankedDF.ix[1][1]],[rankedDF.ix[2][2],rankedDF.ix[1][2]],color=\"Blue\")\n",
    "\n",
    "\n",
    "\n",
    "for i, txt in enumerate(rankedDF[\"Alternatives\"]):\n",
    "    plt.annotate(txt, (rankedDF[\"Cost\"][i], rankedDF[\"Score\"][i]))\n",
    "\n",
    "    \n",
    "plt.gca().invert_xaxis()\n",
    "plt.show"
   ]
  },
  {
   "cell_type": "code",
   "execution_count": 184,
   "metadata": {},
   "outputs": [
    {
     "data": {
      "text/plain": [
       "120000.0"
      ]
     },
     "execution_count": 184,
     "metadata": {},
     "output_type": "execute_result"
    }
   ],
   "source": [
    "#Client view Environment point\n",
    "#120.000 for 0 to 100\n",
    "CviewEn= 120000/100*100\n",
    "\n",
    "CviewEn"
   ]
  },
  {
   "cell_type": "code",
   "execution_count": 181,
   "metadata": {},
   "outputs": [
    {
     "data": {
      "text/html": [
       "<div>\n",
       "<style>\n",
       "    .dataframe thead tr:only-child th {\n",
       "        text-align: right;\n",
       "    }\n",
       "\n",
       "    .dataframe thead th {\n",
       "        text-align: left;\n",
       "    }\n",
       "\n",
       "    .dataframe tbody tr th {\n",
       "        vertical-align: top;\n",
       "    }\n",
       "</style>\n",
       "<table border=\"1\" class=\"dataframe\">\n",
       "  <thead>\n",
       "    <tr style=\"text-align: right;\">\n",
       "      <th></th>\n",
       "      <th>Cost</th>\n",
       "      <th>Environmental</th>\n",
       "      <th>Reliability</th>\n",
       "    </tr>\n",
       "  </thead>\n",
       "  <tbody>\n",
       "    <tr>\n",
       "      <th>A1</th>\n",
       "      <td>90000</td>\n",
       "      <td>20</td>\n",
       "      <td>100</td>\n",
       "    </tr>\n",
       "    <tr>\n",
       "      <th>A2</th>\n",
       "      <td>110000</td>\n",
       "      <td>70</td>\n",
       "      <td>0</td>\n",
       "    </tr>\n",
       "    <tr>\n",
       "      <th>A3</th>\n",
       "      <td>170000</td>\n",
       "      <td>100</td>\n",
       "      <td>90</td>\n",
       "    </tr>\n",
       "    <tr>\n",
       "      <th>A4</th>\n",
       "      <td>60000</td>\n",
       "      <td>0</td>\n",
       "      <td>50</td>\n",
       "    </tr>\n",
       "  </tbody>\n",
       "</table>\n",
       "</div>"
      ],
      "text/plain": [
       "      Cost  Environmental  Reliability\n",
       "A1   90000             20          100\n",
       "A2  110000             70            0\n",
       "A3  170000            100           90\n",
       "A4   60000              0           50"
      ]
     },
     "execution_count": 181,
     "metadata": {},
     "output_type": "execute_result"
    }
   ],
   "source": [
    "df"
   ]
  },
  {
   "cell_type": "code",
   "execution_count": 182,
   "metadata": {},
   "outputs": [
    {
     "data": {
      "text/plain": [
       "110"
      ]
     },
     "execution_count": 182,
     "metadata": {},
     "output_type": "execute_result"
    }
   ],
   "source": [
    "170-60"
   ]
  },
  {
   "cell_type": "code",
   "execution_count": null,
   "metadata": {},
   "outputs": [],
   "source": []
  }
 ],
 "metadata": {
  "kernelspec": {
   "display_name": "Python 3",
   "language": "python",
   "name": "python3"
  },
  "language_info": {
   "codemirror_mode": {
    "name": "ipython",
    "version": 3
   },
   "file_extension": ".py",
   "mimetype": "text/x-python",
   "name": "python",
   "nbconvert_exporter": "python",
   "pygments_lexer": "ipython3",
   "version": "3.6.3"
  }
 },
 "nbformat": 4,
 "nbformat_minor": 2
}
