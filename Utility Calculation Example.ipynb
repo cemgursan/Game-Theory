{
 "cells": [
  {
   "cell_type": "code",
   "execution_count": 1,
   "metadata": {},
   "outputs": [],
   "source": [
    "import pandas as pd\n",
    "from pandas import Series,DataFrame\n",
    "import numpy as np\n",
    "\n",
    "import matplotlib.pyplot as plt\n",
    "import seaborn as sns\n",
    "sns.set_style('whitegrid')\n",
    "%matplotlib inline\n",
    "\n",
    "\n",
    "\n",
    "def namestr(obj, namespace):\n",
    "    return [name for name in namespace if namespace[name] is obj]\n",
    "\n"
   ]
  },
  {
   "cell_type": "code",
   "execution_count": 2,
   "metadata": {},
   "outputs": [],
   "source": [
    "# Data input\n",
    "#1st element Quality\n",
    "#2nd element Facilities available\n",
    "\n",
    "SuperQuill= [100,30]\n",
    "Easywrite= [90 ,70]\n",
    "Wordright= [50 ,20]\n",
    "Lexico= [0 ,40]\n",
    "Ultraword= [20 ,100]\n",
    "Keywrite= [40 ,0]\n",
    "Fastwrite= [85, 55]"
   ]
  },
  {
   "cell_type": "code",
   "execution_count": 3,
   "metadata": {},
   "outputs": [],
   "source": [
    "#Create relevant plottable data\n",
    "\n",
    "data= [SuperQuill,Easywrite,Wordright,Lexico,Ultraword,Keywrite,Fastwrite]\n",
    "NameArr=[]\n",
    "QualityArr=[]\n",
    "FacilityArr=[]\n",
    "\n",
    "for dt in data:\n",
    "    QualityArr.append(dt[0])\n",
    "    FacilityArr.append(dt[1])\n",
    "    NameArr.append(namestr(dt,globals())[0])\n",
    "    \n"
   ]
  },
  {
   "cell_type": "code",
   "execution_count": 4,
   "metadata": {},
   "outputs": [
    {
     "data": {
      "text/plain": [
       "<function matplotlib.pyplot.show>"
      ]
     },
     "execution_count": 4,
     "metadata": {},
     "output_type": "execute_result"
    },
    {
     "data": {
      "image/png": "[encoded data removed]",
      "text/plain": [
       "<matplotlib.figure.Figure at 0x22ba7a2a0f0>"
      ]
     },
     "metadata": {},
     "output_type": "display_data"
    }
   ],
   "source": [
    "#Plot Functions\n",
    "plt.figure(figsize=(10,10))\n",
    "\n",
    "plt.xlabel(\"Quality\")\n",
    "plt.ylabel(\"Facilities Avalaible\")\n",
    "\n",
    "plt.scatter(QualityArr,FacilityArr)\n",
    "\n",
    "for i, txt in enumerate(NameArr):\n",
    "    plt.annotate(txt, (QualityArr[i], FacilityArr[i]))\n",
    "    \n",
    "plt.show\n",
    "\n",
    "\n",
    "\n"
   ]
  },
  {
   "cell_type": "code",
   "execution_count": 5,
   "metadata": {},
   "outputs": [],
   "source": [
    "weightsAnal=((100-37.5)/100,37.5/100)\n",
    "weightedQuality=[]\n",
    "weightedFacility=[]\n",
    "\n",
    "for item in QualityArr:\n",
    "    weightedQuality.append(item*weightsAnal[0])\n",
    "    \n",
    "for item in FacilityArr:\n",
    "    weightedFacility.append(item*weightsAnal[1])\n",
    "    \n",
    "weightedList=[list(a) for a in zip(NameArr,[x+y for x,y in zip(weightedQuality,weightedFacility)])]"
   ]
  },
  {
   "cell_type": "code",
   "execution_count": 6,
   "metadata": {},
   "outputs": [
    {
     "data": {
      "text/plain": [
       "[['Easywrite', 82.5],\n",
       " ['SuperQuill', 73.75],\n",
       " ['Fastwrite', 73.75],\n",
       " ['Ultraword', 50.0],\n",
       " ['Wordright', 38.75],\n",
       " ['Keywrite', 25.0],\n",
       " ['Lexico', 15.0]]"
      ]
     },
     "execution_count": 6,
     "metadata": {},
     "output_type": "execute_result"
    }
   ],
   "source": [
    "sorted(weightedList, key=lambda weight: weight[1],reverse=True)"
   ]
  },
  {
   "cell_type": "code",
   "execution_count": 13,
   "metadata": {},
   "outputs": [
    {
     "data": {
      "text/plain": [
       "[73.75, 82.5, 38.75, 15.0, 50.0, 25.0, 73.75]"
      ]
     },
     "execution_count": 13,
     "metadata": {},
     "output_type": "execute_result"
    }
   ],
   "source": [
    "[x+y for x,y in zip(weightedQuality,weightedFacility)]"
   ]
  },
  {
   "cell_type": "code",
   "execution_count": 9,
   "metadata": {},
   "outputs": [
    {
     "data": {
      "text/plain": [
       "0.375"
      ]
     },
     "execution_count": 9,
     "metadata": {},
     "output_type": "execute_result"
    }
   ],
   "source": []
  },
  {
   "cell_type": "code",
   "execution_count": null,
   "metadata": {},
   "outputs": [],
   "source": []
  }
 ],
 "metadata": {
  "kernelspec": {
   "display_name": "Python 3",
   "language": "python",
   "name": "python3"
  },
  "language_info": {
   "codemirror_mode": {
    "name": "ipython",
    "version": 3
   },
   "file_extension": ".py",
   "mimetype": "text/x-python",
   "name": "python",
   "nbconvert_exporter": "python",
   "pygments_lexer": "ipython3",
   "version": "3.6.3"
  }
 },
 "nbformat": 4,
 "nbformat_minor": 2
}
