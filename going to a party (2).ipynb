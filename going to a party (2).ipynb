{
 "cells": [
  {
   "cell_type": "markdown",
   "metadata": {},
   "source": [
    "## This code is written for the \"going to a party\" question from the book of Andres Perea, Epistemic Game Theory. This is a belief update game."
   ]
  },
  {
   "cell_type": "code",
   "execution_count": 2,
   "metadata": {},
   "outputs": [],
   "source": [
    "\n",
    "#Let's go ahead and start with some imports\n",
    "import pandas as pd\n",
    "from pandas import Series,DataFrame\n",
    "import numpy as np\n",
    "\n",
    "# For Visualization\n",
    "import matplotlib.pyplot as plt\n",
    "import seaborn as sns\n",
    "sns.set_style('whitegrid')\n",
    "%matplotlib inline\n",
    "\n",
    "# For time stamps\n",
    "from datetime import datetime\n",
    "\n"
   ]
  },
  {
   "cell_type": "code",
   "execution_count": 3,
   "metadata": {},
   "outputs": [],
   "source": [
    "Barbara_utilitylist = {\"blue\": 4, \"green\": 3, \"red\":2, \"yellow\":1}\n",
    "DM_utilitylist ={\"blue\": 4, \"green\": 3, \"red\":2, \"yellow\":1}\n",
    "\n",
    "DM_choice=0\n",
    "Barbarachoice=0\n",
    "\n",
    "DM_utility=0\n",
    "Barbarautility=0"
   ]
  },
  {
   "cell_type": "code",
   "execution_count": 4,
   "metadata": {},
   "outputs": [],
   "source": [
    "#Update Choice Function\n",
    "\n",
    "def UpdateChoice(choice,utilitylist):\n",
    "    updatedlist= removekey(utilitylist,choice)\n",
    "    newchoice=Compare(updatedlist)\n",
    "    return newchoice"
   ]
  },
  {
   "cell_type": "code",
   "execution_count": 5,
   "metadata": {},
   "outputs": [],
   "source": [
    "def removekey(d, key):\n",
    "    r = dict(d)\n",
    "    del r[key]\n",
    "    return r"
   ]
  },
  {
   "cell_type": "code",
   "execution_count": 6,
   "metadata": {},
   "outputs": [],
   "source": [
    "#Compare without belief\n",
    "def Compare(utilitylist):\n",
    "    sorted_d = sorted(utilitylist.items(), key=lambda x: x[1])\n",
    "    # equivalent version\n",
    "    # sorted_d = sorted(d.items(), key=lambda (k,v): v)\n",
    "    sorted_d.reverse()\n",
    "    \n",
    "    return sorted_d[0][0]\n",
    " \n",
    "   "
   ]
  },
  {
   "cell_type": "code",
   "execution_count": 7,
   "metadata": {},
   "outputs": [],
   "source": [
    "def CompareChange(utilitylist,choice):\n",
    "    newlist=utilitylist\n",
    "    newlist[choice]=0\n",
    "    return newlist\n"
   ]
  },
  {
   "cell_type": "code",
   "execution_count": 8,
   "metadata": {},
   "outputs": [],
   "source": [
    "#If they have the same color utility is 0\n",
    "def checkSame(choice1,choice2):\n",
    "    if(choice1==choice2):  \n",
    "        newlist=CompareChange(DM_utilitylist,DM_choice)\n",
    "        return newlist\n",
    "    "
   ]
  },
  {
   "cell_type": "code",
   "execution_count": 9,
   "metadata": {},
   "outputs": [
    {
     "name": "stdout",
     "output_type": "stream",
     "text": [
      "DM's choice is blue\n",
      "Barbara's choice is blue\n"
     ]
    }
   ],
   "source": [
    "#Choice without beliefs\n",
    "DM_choice= Compare(DM_utilitylist)\n",
    "Barbarachoice=Compare(Barbara_utilitylist)\n",
    "print(\"DM's choice is \" + DM_choice)\n",
    "print(\"Barbara's choice is \" + Barbarachoice)    "
   ]
  },
  {
   "cell_type": "code",
   "execution_count": 10,
   "metadata": {},
   "outputs": [
    {
     "name": "stdout",
     "output_type": "stream",
     "text": [
      "Utility of DM's choosing for blue is 1.6\n",
      "Utility of DM's choosing for green is 1.7999999999999998\n",
      "Utility of DM's choosing for red is 2.0\n",
      "Utility of DM's choosing for yellow is 1.0\n",
      "\n",
      "DM's choice under this probability distribution is red\n",
      "Expected utility for this choice is 2.0\n"
     ]
    }
   ],
   "source": [
    "#Check all payoff for every choice for Barbara's probabilities\n",
    "\n",
    "plist={\"blue\":0.6,\"green\": 0.4, \"red\":0.0,\"yellow\":0.0}\n",
    "chosenutility=0\n",
    "currentu=0\n",
    "finallist={}\n",
    "finalu=0\n",
    "\n",
    "\n",
    "for k in DM_utilitylist:\n",
    "\n",
    "    currentu+=(1-plist[k])*DM_utilitylist[k]\n",
    "    print(\"Utility of DM's choosing for \"+ k + \" is \"+ str(currentu))\n",
    "    finallist[k]=currentu\n",
    "    sorted_d = sorted(finallist.items(), key=lambda x: x[1])\n",
    "    sorted_d.reverse()\n",
    "    currentu=0\n",
    "\n",
    "print()        \n",
    "print(\"DM's choice under this probability distribution is \" + sorted_d[0][0])        \n",
    "print(\"Expected utility for this choice is \" + str(sorted_d[0][1]))     "
   ]
  },
  {
   "cell_type": "code",
   "execution_count": null,
   "metadata": {},
   "outputs": [],
   "source": []
  },
  {
   "cell_type": "code",
   "execution_count": null,
   "metadata": {},
   "outputs": [],
   "source": []
  }
 ],
 "metadata": {
  "kernelspec": {
   "display_name": "Python 3",
   "language": "python",
   "name": "python3"
  },
  "language_info": {
   "codemirror_mode": {
    "name": "ipython",
    "version": 3
   },
   "file_extension": ".py",
   "mimetype": "text/x-python",
   "name": "python",
   "nbconvert_exporter": "python",
   "pygments_lexer": "ipython3",
   "version": "3.6.3"
  }
 },
 "nbformat": 4,
 "nbformat_minor": 2
}
